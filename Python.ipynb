{
 "cells": [
  {
   "cell_type": "markdown",
   "metadata": {},
   "source": [
    "# Supervised Machine Learning: Regression Capstone Project"
   ]
  },
  {
   "cell_type": "markdown",
   "metadata": {},
   "source": [
    "## Dataset\n",
    "The data from this study comes from a previous study on enzyme efficiency. The original article can be found in peer-review using the following hyperlink: \\href{https://www.mdpi.com/2311-5637/7/3/198/htm}{Addressing Enzymatic Clarification Challenges of Muscat Grape Juice}. The data set includes the characterization of juices using twelve features. In this study we try to predict the enzyme efficiency based upon these features.\n",
    "\n",
    "Data cleaning and feature engineering included box-cox and one-hot encoding not provided in this notebook. "
   ]
  },
  {
   "cell_type": "code",
   "execution_count": 34,
   "metadata": {},
   "outputs": [
    {
     "data": {
      "text/html": [
       "<div>\n",
       "<style scoped>\n",
       "    .dataframe tbody tr th:only-of-type {\n",
       "        vertical-align: middle;\n",
       "    }\n",
       "\n",
       "    .dataframe tbody tr th {\n",
       "        vertical-align: top;\n",
       "    }\n",
       "\n",
       "    .dataframe thead th {\n",
       "        text-align: right;\n",
       "    }\n",
       "</style>\n",
       "<table border=\"1\" class=\"dataframe\">\n",
       "  <thead>\n",
       "    <tr style=\"text-align: right;\">\n",
       "      <th></th>\n",
       "      <th>Control</th>\n",
       "      <th>Enzymes</th>\n",
       "      <th>Brix</th>\n",
       "      <th>TA</th>\n",
       "      <th>pH</th>\n",
       "      <th>YAN</th>\n",
       "      <th>VA</th>\n",
       "      <th>Gluconic</th>\n",
       "      <th>A420</th>\n",
       "      <th>FolinC[ppm]</th>\n",
       "      <th>Bradford[ppm]</th>\n",
       "      <th>Polysaccharides[g/L]</th>\n",
       "    </tr>\n",
       "  </thead>\n",
       "  <tbody>\n",
       "    <tr>\n",
       "      <th>0</th>\n",
       "      <td>0.23</td>\n",
       "      <td>0.590</td>\n",
       "      <td>16.8</td>\n",
       "      <td>1.1</td>\n",
       "      <td>3.78</td>\n",
       "      <td>117</td>\n",
       "      <td>0.10</td>\n",
       "      <td>0.0</td>\n",
       "      <td>0.406</td>\n",
       "      <td>230</td>\n",
       "      <td>479</td>\n",
       "      <td>1.52</td>\n",
       "    </tr>\n",
       "    <tr>\n",
       "      <th>1</th>\n",
       "      <td>0.24</td>\n",
       "      <td>0.790</td>\n",
       "      <td>20.4</td>\n",
       "      <td>1.2</td>\n",
       "      <td>3.96</td>\n",
       "      <td>144</td>\n",
       "      <td>0.05</td>\n",
       "      <td>0.0</td>\n",
       "      <td>0.401</td>\n",
       "      <td>263</td>\n",
       "      <td>519</td>\n",
       "      <td>3.08</td>\n",
       "    </tr>\n",
       "    <tr>\n",
       "      <th>2</th>\n",
       "      <td>0.77</td>\n",
       "      <td>0.885</td>\n",
       "      <td>19.3</td>\n",
       "      <td>2.0</td>\n",
       "      <td>3.73</td>\n",
       "      <td>140</td>\n",
       "      <td>0.15</td>\n",
       "      <td>0.4</td>\n",
       "      <td>0.340</td>\n",
       "      <td>245</td>\n",
       "      <td>448</td>\n",
       "      <td>0.00</td>\n",
       "    </tr>\n",
       "    <tr>\n",
       "      <th>3</th>\n",
       "      <td>0.50</td>\n",
       "      <td>0.900</td>\n",
       "      <td>19.7</td>\n",
       "      <td>1.9</td>\n",
       "      <td>3.71</td>\n",
       "      <td>132</td>\n",
       "      <td>0.14</td>\n",
       "      <td>0.3</td>\n",
       "      <td>0.316</td>\n",
       "      <td>229</td>\n",
       "      <td>416</td>\n",
       "      <td>0.00</td>\n",
       "    </tr>\n",
       "    <tr>\n",
       "      <th>4</th>\n",
       "      <td>0.77</td>\n",
       "      <td>0.800</td>\n",
       "      <td>20.1</td>\n",
       "      <td>1.9</td>\n",
       "      <td>3.75</td>\n",
       "      <td>135</td>\n",
       "      <td>0.20</td>\n",
       "      <td>0.6</td>\n",
       "      <td>0.381</td>\n",
       "      <td>272</td>\n",
       "      <td>443</td>\n",
       "      <td>0.00</td>\n",
       "    </tr>\n",
       "  </tbody>\n",
       "</table>\n",
       "</div>"
      ],
      "text/plain": [
       "   Control  Enzymes  Brix   TA    pH  YAN    VA  Gluconic   A420  FolinC[ppm]  \\\n",
       "0     0.23    0.590  16.8  1.1  3.78  117  0.10       0.0  0.406          230   \n",
       "1     0.24    0.790  20.4  1.2  3.96  144  0.05       0.0  0.401          263   \n",
       "2     0.77    0.885  19.3  2.0  3.73  140  0.15       0.4  0.340          245   \n",
       "3     0.50    0.900  19.7  1.9  3.71  132  0.14       0.3  0.316          229   \n",
       "4     0.77    0.800  20.1  1.9  3.75  135  0.20       0.6  0.381          272   \n",
       "\n",
       "   Bradford[ppm]  Polysaccharides[g/L]  \n",
       "0            479                  1.52  \n",
       "1            519                  3.08  \n",
       "2            448                  0.00  \n",
       "3            416                  0.00  \n",
       "4            443                  0.00  "
      ]
     },
     "execution_count": 34,
     "metadata": {},
     "output_type": "execute_result"
    }
   ],
   "source": [
    "import pandas as pd\n",
    "import numpy as np\n",
    "import seaborn as sns\n",
    "import matplotlib.pyplot as plt\n",
    "from sklearn.preprocessing import MinMaxScaler\n",
    "from sklearn.metrics import mean_squared_error, r2_score\n",
    "from sklearn.preprocessing import StandardScaler, PolynomialFeatures\n",
    "from sklearn.model_selection import KFold, cross_val_predict\n",
    "from sklearn.linear_model import LinearRegression, Lasso, Ridge, RidgeCV, LassoCV, ElasticNetCV \n",
    "from sklearn.pipeline import Pipeline\n",
    "data = pd.read_csv('dataupas.csv')\n",
    "dataclean = data.drop(['Varietal','Pick Time','FermActivity','PickTime','Varietal String','Pick','Source','Date','Condition','Lat','Long', 'EnzymeA', 'EnzymeB', 'District'], axis=1)\n",
    "df=dataclean\n",
    "df.head()"
   ]
  },
  {
   "cell_type": "markdown",
   "metadata": {},
   "source": [
    "# Set Train Test Split"
   ]
  },
  {
   "cell_type": "code",
   "execution_count": 35,
   "metadata": {},
   "outputs": [
    {
     "name": "stdout",
     "output_type": "stream",
     "text": [
      "Training set has 21 samples.\n",
      "Testing set has 9 samples.\n"
     ]
    }
   ],
   "source": [
    "from sklearn.linear_model import LinearRegression\n",
    "from sklearn.metrics import r2_score\n",
    "from sklearn.model_selection import train_test_split\n",
    "from sklearn.preprocessing import (StandardScaler, \n",
    "                                   PolynomialFeatures)\n",
    "\n",
    "\n",
    "# Create X and y\n",
    "y_col = 'Enzymes'\n",
    "X = df.drop(y_col, axis=1)\n",
    "y = df[y_col]\n",
    "\n",
    "#Train Test Split\n",
    "X_train, X_test, y_train, y_test = train_test_split(X, y, test_size=0.3, random_state=42)\n",
    "\n",
    "# Show the results of the split\n",
    "print(\"Training set has {} samples.\".format(X_train.shape[0]))\n",
    "print(\"Testing set has {} samples.\".format(X_test.shape[0]))"
   ]
  },
  {
   "cell_type": "code",
   "execution_count": 36,
   "metadata": {},
   "outputs": [
    {
     "data": {
      "text/html": [
       "<div>\n",
       "<style scoped>\n",
       "    .dataframe tbody tr th:only-of-type {\n",
       "        vertical-align: middle;\n",
       "    }\n",
       "\n",
       "    .dataframe tbody tr th {\n",
       "        vertical-align: top;\n",
       "    }\n",
       "\n",
       "    .dataframe thead th {\n",
       "        text-align: right;\n",
       "    }\n",
       "</style>\n",
       "<table border=\"1\" class=\"dataframe\">\n",
       "  <thead>\n",
       "    <tr style=\"text-align: right;\">\n",
       "      <th></th>\n",
       "      <th>Control</th>\n",
       "      <th>Brix</th>\n",
       "      <th>TA</th>\n",
       "      <th>pH</th>\n",
       "      <th>YAN</th>\n",
       "      <th>VA</th>\n",
       "      <th>Gluconic</th>\n",
       "      <th>A420</th>\n",
       "      <th>FolinC[ppm]</th>\n",
       "      <th>Bradford[ppm]</th>\n",
       "      <th>Polysaccharides[g/L]</th>\n",
       "    </tr>\n",
       "  </thead>\n",
       "  <tbody>\n",
       "    <tr>\n",
       "      <th>0</th>\n",
       "      <td>0.23</td>\n",
       "      <td>16.8</td>\n",
       "      <td>1.1</td>\n",
       "      <td>3.78</td>\n",
       "      <td>117</td>\n",
       "      <td>0.10</td>\n",
       "      <td>0.0</td>\n",
       "      <td>0.406</td>\n",
       "      <td>230</td>\n",
       "      <td>479</td>\n",
       "      <td>1.52</td>\n",
       "    </tr>\n",
       "    <tr>\n",
       "      <th>1</th>\n",
       "      <td>0.24</td>\n",
       "      <td>20.4</td>\n",
       "      <td>1.2</td>\n",
       "      <td>3.96</td>\n",
       "      <td>144</td>\n",
       "      <td>0.05</td>\n",
       "      <td>0.0</td>\n",
       "      <td>0.401</td>\n",
       "      <td>263</td>\n",
       "      <td>519</td>\n",
       "      <td>3.08</td>\n",
       "    </tr>\n",
       "    <tr>\n",
       "      <th>2</th>\n",
       "      <td>0.77</td>\n",
       "      <td>19.3</td>\n",
       "      <td>2.0</td>\n",
       "      <td>3.73</td>\n",
       "      <td>140</td>\n",
       "      <td>0.15</td>\n",
       "      <td>0.4</td>\n",
       "      <td>0.340</td>\n",
       "      <td>245</td>\n",
       "      <td>448</td>\n",
       "      <td>0.00</td>\n",
       "    </tr>\n",
       "    <tr>\n",
       "      <th>3</th>\n",
       "      <td>0.50</td>\n",
       "      <td>19.7</td>\n",
       "      <td>1.9</td>\n",
       "      <td>3.71</td>\n",
       "      <td>132</td>\n",
       "      <td>0.14</td>\n",
       "      <td>0.3</td>\n",
       "      <td>0.316</td>\n",
       "      <td>229</td>\n",
       "      <td>416</td>\n",
       "      <td>0.00</td>\n",
       "    </tr>\n",
       "    <tr>\n",
       "      <th>4</th>\n",
       "      <td>0.77</td>\n",
       "      <td>20.1</td>\n",
       "      <td>1.9</td>\n",
       "      <td>3.75</td>\n",
       "      <td>135</td>\n",
       "      <td>0.20</td>\n",
       "      <td>0.6</td>\n",
       "      <td>0.381</td>\n",
       "      <td>272</td>\n",
       "      <td>443</td>\n",
       "      <td>0.00</td>\n",
       "    </tr>\n",
       "  </tbody>\n",
       "</table>\n",
       "</div>"
      ],
      "text/plain": [
       "   Control  Brix   TA    pH  YAN    VA  Gluconic   A420  FolinC[ppm]  \\\n",
       "0     0.23  16.8  1.1  3.78  117  0.10       0.0  0.406          230   \n",
       "1     0.24  20.4  1.2  3.96  144  0.05       0.0  0.401          263   \n",
       "2     0.77  19.3  2.0  3.73  140  0.15       0.4  0.340          245   \n",
       "3     0.50  19.7  1.9  3.71  132  0.14       0.3  0.316          229   \n",
       "4     0.77  20.1  1.9  3.75  135  0.20       0.6  0.381          272   \n",
       "\n",
       "   Bradford[ppm]  Polysaccharides[g/L]  \n",
       "0            479                  1.52  \n",
       "1            519                  3.08  \n",
       "2            448                  0.00  \n",
       "3            416                  0.00  \n",
       "4            443                  0.00  "
      ]
     },
     "execution_count": 36,
     "metadata": {},
     "output_type": "execute_result"
    }
   ],
   "source": [
    "X.head()"
   ]
  },
  {
   "cell_type": "code",
   "execution_count": 37,
   "metadata": {},
   "outputs": [],
   "source": [
    "#KFold\n",
    "from sklearn.model_selection import KFold, cross_val_predict\n",
    "kf = KFold(shuffle=True, random_state=72018, n_splits=3)"
   ]
  },
  {
   "cell_type": "code",
   "execution_count": 38,
   "metadata": {},
   "outputs": [
    {
     "data": {
      "text/plain": [
       "(-5.587181768204093, 0.48768457821430355)"
      ]
     },
     "execution_count": 38,
     "metadata": {},
     "output_type": "execute_result"
    }
   ],
   "source": [
    "from sklearn.pipeline import Pipeline\n",
    "# vanilla regression and K-fold cross validation\n",
    "s = StandardScaler()\n",
    "lr = LinearRegression()\n",
    "\n",
    "X_train_s = s.fit_transform(X_train)\n",
    "lr.fit(X_train_s, y_train)\n",
    "X_test = s.transform(X_test)  \n",
    "y_pred = lr.predict(X_test)\n",
    "score = r2_score(y_test, y_pred)\n",
    "\n",
    "# with pipeline\n",
    "estimator = Pipeline([(\"scaler\", s),(\"regression\", lr)])\n",
    "predictions_lr = cross_val_predict(estimator, X_train, y_train, cv=kf)\n",
    "linear_score = r2_score(y_train, predictions_lr)\n",
    "\n",
    "linear_score, score \n"
   ]
  },
  {
   "cell_type": "code",
   "execution_count": 39,
   "metadata": {},
   "outputs": [
    {
     "data": {
      "image/png": "[encoded data removed]",
      "text/plain": [
       "<Figure size 432x288 with 1 Axes>"
      ]
     },
     "metadata": {
      "needs_background": "light"
     },
     "output_type": "display_data"
    }
   ],
   "source": [
    "# lasso regression and K-fold cross validation\n",
    "from sklearn.linear_model import LinearRegression, Lasso, Ridge, RidgeCV, LassoCV, ElasticNetCV \n",
    "s = StandardScaler()\n",
    "pf = PolynomialFeatures(degree=2)\n",
    "kf = KFold(shuffle=True, random_state=72018, n_splits=3)\n",
    "scores = []\n",
    "alphas = np.geomspace(0.06, 6.0, 20)\n",
    "predictions_lsr = []\n",
    "for alpha in alphas:\n",
    "    las = Lasso(alpha=alpha, max_iter=100000)\n",
    "    \n",
    "    estimator = Pipeline([\n",
    "        (\"scaler\", s),\n",
    "        (\"make_higher_degree\", pf),\n",
    "        (\"lasso_regression\", las)])\n",
    "\n",
    "    predictions_lsr = cross_val_predict(estimator, X_train, y_train, cv = kf)\n",
    "    \n",
    "    score = r2_score(y_train, predictions_lsr)\n",
    "    \n",
    "    scores.append(score)\n",
    "plt.semilogx(alphas, scores, '-o', color='purple')\n",
    "plt.title('Lasso Regression')\n",
    "plt.xlabel('$\\\\alpha$')\n",
    "plt.ylabel('$R^2$');"
   ]
  },
  {
   "cell_type": "code",
   "execution_count": 40,
   "metadata": {},
   "outputs": [],
   "source": [
    "\n",
    "best_estimator = Pipeline([\n",
    "                    (\"scaler\", s),\n",
    "                    (\"make_higher_degree\", PolynomialFeatures(degree=2)),\n",
    "                    (\"lasso_regression\", Lasso(alpha=0.03))])\n",
    "\n",
    "best_estimator.fit(X_train, y_train)\n",
    "lasso_score = best_estimator.score(X_train, y_train)\n",
    "\n"
   ]
  },
  {
   "cell_type": "code",
   "execution_count": 41,
   "metadata": {},
   "outputs": [
    {
     "data": {
      "image/png": "[encoded data removed]",
      "text/plain": [
       "<Figure size 432x288 with 1 Axes>"
      ]
     },
     "metadata": {
      "needs_background": "light"
     },
     "output_type": "display_data"
    }
   ],
   "source": [
    "# ridge regression and K-fold cross validation\n",
    "pf = PolynomialFeatures(degree=2)\n",
    "alphas = np.geomspace(4, 20, 20)\n",
    "scores=[]\n",
    "predictions_rr = []\n",
    "for alpha in alphas:\n",
    "    ridge = Ridge(alpha=alpha, max_iter=100000)\n",
    "\n",
    "    estimator = Pipeline([\n",
    "        (\"scaler\", s),\n",
    "        (\"polynomial_features\", pf),\n",
    "        (\"ridge_regression\", ridge)])\n",
    "\n",
    "    predictions_rr = cross_val_predict(estimator, X_train, y_train, cv = kf)\n",
    "    score = r2_score(y_train, predictions_rr)\n",
    "    scores.append(score)\n",
    "\n",
    "plt.plot(alphas, scores, '-o', color='purple')\n",
    "plt.title('Ridge Regression')\n",
    "plt.xlabel('$\\\\alpha$')\n",
    "plt.ylabel('$R^2$');"
   ]
  },
  {
   "cell_type": "code",
   "execution_count": 42,
   "metadata": {},
   "outputs": [],
   "source": [
    "best_estimator = Pipeline([\n",
    "                    (\"scaler\", s),\n",
    "                    (\"make_higher_degree\", PolynomialFeatures(degree=2)),\n",
    "                    (\"ridge_regression\", Ridge(alpha=0.03))])\n",
    "\n",
    "best_estimator.fit(X_train, y_train)\n",
    "ridge_score = best_estimator.score(X_train, y_train)"
   ]
  },
  {
   "cell_type": "code",
   "execution_count": 43,
   "metadata": {},
   "outputs": [
    {
     "data": {
      "text/html": [
       "<div>\n",
       "<style scoped>\n",
       "    .dataframe tbody tr th:only-of-type {\n",
       "        vertical-align: middle;\n",
       "    }\n",
       "\n",
       "    .dataframe tbody tr th {\n",
       "        vertical-align: top;\n",
       "    }\n",
       "\n",
       "    .dataframe thead th {\n",
       "        text-align: right;\n",
       "    }\n",
       "</style>\n",
       "<table border=\"1\" class=\"dataframe\">\n",
       "  <thead>\n",
       "    <tr style=\"text-align: right;\">\n",
       "      <th></th>\n",
       "      <th>linear</th>\n",
       "      <th>lasso</th>\n",
       "      <th>ridge</th>\n",
       "    </tr>\n",
       "  </thead>\n",
       "  <tbody>\n",
       "    <tr>\n",
       "      <th>score</th>\n",
       "      <td>-5.587182</td>\n",
       "      <td>0.517032</td>\n",
       "      <td>0.999998</td>\n",
       "    </tr>\n",
       "  </tbody>\n",
       "</table>\n",
       "</div>"
      ],
      "text/plain": [
       "         linear     lasso     ridge\n",
       "score -5.587182  0.517032  0.999998"
      ]
     },
     "execution_count": 43,
     "metadata": {},
     "output_type": "execute_result"
    }
   ],
   "source": [
    "# comparing scores\n",
    "pd.DataFrame([[linear_score, lasso_score, ridge_score]],columns=['linear', 'lasso', 'ridge'], index=['score'])"
   ]
  },
  {
   "cell_type": "code",
   "execution_count": 44,
   "metadata": {},
   "outputs": [
    {
     "data": {
      "text/html": [
       "<div>\n",
       "<style scoped>\n",
       "    .dataframe tbody tr th:only-of-type {\n",
       "        vertical-align: middle;\n",
       "    }\n",
       "\n",
       "    .dataframe tbody tr th {\n",
       "        vertical-align: top;\n",
       "    }\n",
       "\n",
       "    .dataframe thead th {\n",
       "        text-align: right;\n",
       "    }\n",
       "</style>\n",
       "<table border=\"1\" class=\"dataframe\">\n",
       "  <thead>\n",
       "    <tr style=\"text-align: right;\">\n",
       "      <th></th>\n",
       "      <th>Linear</th>\n",
       "      <th>Lasso</th>\n",
       "      <th>Ridge</th>\n",
       "      <th>ElasticNet</th>\n",
       "    </tr>\n",
       "  </thead>\n",
       "  <tbody>\n",
       "    <tr>\n",
       "      <th>rmse</th>\n",
       "      <td>3.411869</td>\n",
       "      <td>0.177438</td>\n",
       "      <td>1.925086</td>\n",
       "      <td>3.027785</td>\n",
       "    </tr>\n",
       "  </tbody>\n",
       "</table>\n",
       "</div>"
      ],
      "text/plain": [
       "        Linear     Lasso     Ridge  ElasticNet\n",
       "rmse  3.411869  0.177438  1.925086    3.027785"
      ]
     },
     "execution_count": 44,
     "metadata": {},
     "output_type": "execute_result"
    }
   ],
   "source": [
    "def rmse(ytrue, ypredicted):\n",
    "    return np.sqrt(mean_squared_error(ytrue, ypredicted))\n",
    "\n",
    "# Fit a basic linear regression model\n",
    "linearRegression = LinearRegression().fit(X_train, y_train)\n",
    "linearRegression_rmse = rmse(y_test, linearRegression.predict(X_test))\n",
    "\n",
    "# Fit a regular (non-cross validated) Ridge model\n",
    "alphas = [0.005, 0.05, 0.1, 0.3, 1, 3, 5, 10, 15, 30, 80]\n",
    "ridgeCV = RidgeCV(alphas=alphas, cv=4).fit(X_train, y_train)\n",
    "ridgeCV_rmse = rmse(y_test, ridgeCV.predict(X_test))\n",
    "\n",
    "# Fit a Lasso model using cross validation and determine the optimum value for 𝛼\n",
    "alphas2 = np.array([1e-5, 5e-5, 0.0001, 0.0005])\n",
    "lassoCV = LassoCV(alphas=alphas2,\n",
    "                  max_iter=5e4,\n",
    "                  cv=3).fit(X_train, y_train)\n",
    "lassoCV_rmse = rmse(y_test, lassoCV.predict(X_test))\n",
    "\n",
    "# Fit elastic net with the same set of alphas as lasso\n",
    "l1_ratios = np.linspace(0.1, 0.9, 9)\n",
    "elasticNetCV = ElasticNetCV(alphas=alphas2, \n",
    "                            l1_ratio=l1_ratios,\n",
    "                            max_iter=1e4).fit(X_train, y_train)\n",
    "elasticNetCV_rmse = rmse(y_test, elasticNetCV.predict(X_test))\n",
    "\n",
    "\n",
    "rmse_vals = [linearRegression_rmse, ridgeCV_rmse, lassoCV_rmse, elasticNetCV_rmse]\n",
    "\n",
    "labels = ['Linear', 'Lasso', 'Ridge' 'ElasticNet']\n",
    "\n",
    "rmse_df = pd.DataFrame([[linearRegression_rmse, ridgeCV_rmse, lassoCV_rmse, elasticNetCV_rmse]],columns=['Linear', 'Lasso', 'Ridge', 'ElasticNet'], index=['rmse'])\n",
    "rmse_df\n",
    "\n"
   ]
  },
  {
   "cell_type": "code",
   "execution_count": 45,
   "metadata": {},
   "outputs": [
    {
     "data": {
      "text/plain": [
       "[Text(0, 0.5, 'Predicted'),\n",
       " Text(0.5, 0, 'Actual'),\n",
       " Text(0.5, 1.0, 'Linear Regression Results')]"
      ]
     },
     "execution_count": 45,
     "metadata": {},
     "output_type": "execute_result"
    },
    {
     "data": {
      "image/png": "[encoded data removed]",
      "text/plain": [
       "<Figure size 432x432 with 1 Axes>"
      ]
     },
     "metadata": {
      "needs_background": "light"
     },
     "output_type": "display_data"
    }
   ],
   "source": [
    "f = plt.figure(figsize=(6,6))\n",
    "ax = plt.axes()\n",
    "\n",
    "labels, models = ['Linear', 'Ridge', 'Lasso', 'ElasticNet'], [linearRegression, ridgeCV, lassoCV, elasticNetCV]\n",
    "\n",
    "for mod, label in zip(models, labels):\n",
    "    ax.plot(y_test, mod.predict(X_test), marker='o', ls='', ms=3.0, label=label, alpha=1)\n",
    "    \n",
    "leg = plt.legend(frameon=True)\n",
    "leg.get_frame().set_edgecolor('black')\n",
    "leg.get_frame().set_linewidth(1.0)\n",
    "\n",
    "ax.set(xlabel='Actual', ylabel='Predicted', title='Linear Regression Results')"
   ]
  },
  {
   "cell_type": "markdown",
   "metadata": {},
   "source": []
  }
 ],
 "metadata": {
  "interpreter": {
   "hash": "7e5c5252ab43389490cb89f2180f8a209409777dc3c8f11995615ec8eda627a5"
  },
  "kernelspec": {
   "display_name": "Python 3",
   "language": "python",
   "name": "python3"
  },
  "language_info": {
   "codemirror_mode": {
    "name": "ipython",
    "version": 3
   },
   "file_extension": ".py",
   "mimetype": "text/x-python",
   "name": "python",
   "nbconvert_exporter": "python",
   "pygments_lexer": "ipython3",
   "version": "3.8.5"
  }
 },
 "nbformat": 4,
 "nbformat_minor": 4
}
